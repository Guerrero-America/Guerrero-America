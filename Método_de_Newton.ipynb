{
  "cells": [
    {
      "cell_type": "markdown",
      "metadata": {
        "id": "view-in-github",
        "colab_type": "text"
      },
      "source": [
        "<a href=\"https://colab.research.google.com/github/Guerrero-America/MetodosNumericos/blob/main/M%C3%A9todo_de_Newton.ipynb\" target=\"_parent\"><img src=\"https://colab.research.google.com/assets/colab-badge.svg\" alt=\"Open In Colab\"/></a>"
      ]
    },
    {
      "cell_type": "markdown",
      "id": "3154e14b",
      "metadata": {
        "id": "3154e14b"
      },
      "source": [
        "# Método de Newton en:\n",
        "# $f(x)=x^{3}+4x^{2}-10$"
      ]
    },
    {
      "cell_type": "code",
      "execution_count": 32,
      "id": "9d5e2287",
      "metadata": {
        "id": "9d5e2287"
      },
      "outputs": [],
      "source": [
        "from math import *\n",
        "import numpy as np\n",
        "import matplotlib . pyplot as plt"
      ]
    },
    {
      "cell_type": "code",
      "source": [
        "import sympy as sp\n",
        "  # definir x como simbolo\n",
        "x=sp.Symbol('x')\n",
        "  # se calculará la derivada de f(x)\n",
        "df=sp.diff(x**3+4*x**2-10,x)\n",
        "  # se imprime las funciones\n",
        "print(\"f(x)=\",x**3+4*x**2-10)\n",
        "print(\"f'(x)=\",df)"
      ],
      "metadata": {
        "colab": {
          "base_uri": "https://localhost:8080/"
        },
        "id": "DF4GMjpvi5TY",
        "outputId": "322da818-a03b-4f52-ce5d-6c6f56d7d513"
      },
      "id": "DF4GMjpvi5TY",
      "execution_count": 33,
      "outputs": [
        {
          "output_type": "stream",
          "name": "stdout",
          "text": [
            "f(x)= x**3 + 4*x**2 - 10\n",
            "f'(x)= 3*x**2 + 8*x\n"
          ]
        }
      ]
    },
    {
      "cell_type": "code",
      "source": [
        "# Se definen las funciones\n",
        "def f(x):\n",
        "    return x**3 + 4*x**2 - 10.0\n",
        "def d(x):\n",
        "    return 3*x**2 + 8*x\n",
        "# Se definirán las ecuaciones de las lineas rectas\n",
        "def g(x):\n",
        "    return 11*x - 16\n",
        "def h(x):\n",
        "    return 17.98271075*x - 24.61086492"
      ],
      "metadata": {
        "id": "ZKSwfKFBko9j"
      },
      "id": "ZKSwfKFBko9j",
      "execution_count": 94,
      "outputs": []
    },
    {
      "cell_type": "code",
      "execution_count": 35,
      "id": "679a51af",
      "metadata": {
        "id": "679a51af"
      },
      "outputs": [],
      "source": [
        "# Ingreso datos de entrada para los diferentes métodos a trabajar\n",
        "P0 = 1 #aproximación inicial\n",
        "tol = 0.001 # El error debe estar dentro de 10^-2\n",
        "nmax = 100 # numero máximo de iteraciones\n",
        "error = 100\n",
        "niter = 1 # contador de iteraciones"
      ]
    },
    {
      "cell_type": "code",
      "source": [
        "#P0-(f(P0)/d(P0))\n",
        "d(1.4545)"
      ],
      "metadata": {
        "colab": {
          "base_uri": "https://localhost:8080/"
        },
        "id": "BpdrKrsiFvHU",
        "outputId": "6bc8ee8a-ab4a-4cc9-857a-36d4d022dda6"
      },
      "id": "BpdrKrsiFvHU",
      "execution_count": 93,
      "outputs": [
        {
          "output_type": "execute_result",
          "data": {
            "text/plain": [
              "17.98271075"
            ]
          },
          "metadata": {},
          "execution_count": 93
        }
      ]
    },
    {
      "cell_type": "code",
      "execution_count": 36,
      "id": "6b4c08a0",
      "metadata": {
        "id": "6b4c08a0",
        "colab": {
          "base_uri": "https://localhost:8080/"
        },
        "outputId": "e9434d63-6969-4c90-be00-de3569006d12"
      },
      "outputs": [
        {
          "output_type": "stream",
          "name": "stdout",
          "text": [
            "# iter\t\t P \t\t f(P) \t\t error\n",
            "1 \t\t 1.0000 \t -5.0000 \t 100.0000\n",
            "2 \t\t 1.4545 \t 1.5402 \t 0.4545\n",
            "3 \t\t 1.3689 \t 0.0607 \t 0.0856\n",
            "4 \t\t 1.3652 \t 0.0001 \t 0.0037\n",
            "La raíz de la función dada es 1.3652300\n"
          ]
        }
      ],
      "source": [
        "# MÉTODO DE NEWTON\n",
        "#gp = g(P0) #Evaluacion de la función en la aproximación inicial indicada P0=1\n",
        "\n",
        "print(\"# iter\\t\\t P \\t\\t f(P) \\t\\t error\") # Se mostrará el encabezado de la tabla\n",
        "print(\"{0} \\t\\t {1:6.4f} \\t {2:6.4f} \\t {3:6.4f}\".format(niter, P0, f(P0), error )) # Se mostrará la primera iteración\n",
        "\n",
        "# ciclo iterativo\n",
        "while niter <= nmax:\n",
        "    P = P0-(f(P0)/d(P0)) # Calcula P1\n",
        "    if abs(P - P0) < tol: # Condición de parada, si el valor absoluto de la diferencia de aproximaciones (inicial y nueva) es menor a la tolerancia (en este caso 0.001) se acaba el ciclo iterativo\n",
        "      print(\"La raíz de la función dada es {0:6.7f}\".format(P)) # Se mostrará la raíz encontrada\n",
        "      break\n",
        "    else:\n",
        "      error = abs(P - P0) # Se calcula el error\n",
        "      niter += 1 # Se aumenta el contador de iteraciones\n",
        "      P0 = P # Se actualiza la aproximación\n",
        "    print(\"{0} \\t\\t {1:6.4f} \\t {2:6.4f} \\t {3:6.4f}\".format(niter, P, f(P), error )) # Se mostrará la siguiente iteración"
      ]
    },
    {
      "cell_type": "code",
      "execution_count": 98,
      "id": "b59ace03",
      "metadata": {
        "id": "b59ace03",
        "colab": {
          "base_uri": "https://localhost:8080/",
          "height": 456
        },
        "outputId": "6cf7f8fb-e9f3-44c1-aedf-7d324c7d67b3"
      },
      "outputs": [
        {
          "output_type": "display_data",
          "data": {
            "text/plain": [
              "<Figure size 640x480 with 1 Axes>"
            ],
            "image/png": "[encoded data removed]"
          },
          "metadata": {}
        }
      ],
      "source": [
        "# Valores del eje X que toma el gráfico.\n",
        "x=np.linspace(-10,10,400)\n",
        "\n",
        "# Graficar funcion\n",
        "plt.plot(x,f(x))\n",
        "plt.plot(1,-5, marker=\"o\", color=\"blue\") # Se graficara P0, donde sus coordenadas son (1,-5)\n",
        "plt.plot(1.4545,1.5393, marker=\"o\", color=\"blue\") # Se graficara P1, donde sus coordenadas son (1.4545,1.5393)\n",
        " ## Se graficarán las lineas rectas\n",
        "# m=f'(P0)\n",
        "plt.plot(x, np.full(x.shape, g(x)),color='grey', linestyle='-')\n",
        "plt.plot(x, np.full(x.shape, h(x)),color='grey', linestyle='-')\n",
        "\n",
        "#Características de la gráfica\n",
        "plt.title(\"Método de Newton de $f(x)=x^{3}+4x^{2}-10$\") # Título\n",
        "plt.legend([r\"$f(x)=x^{3}+4x^{2}-10$\"]) #Leyenda\n",
        "plt.axhline(0, color=\"black\")\n",
        "plt.axvline(0, color=\"black\") # Localización de los ejes ordenados\n",
        "plt.xlim(-0.5, 2)\n",
        "plt.ylim(-6, 6) # Límites de los ejes ordenados\n",
        "plt.xticks(np.arange(-0.5, 2, 0.25))\n",
        "plt.yticks(np.arange(-6, 6, 1)) # Escala de la gráfica\n",
        "plt.grid(color=\"grey\") # Cuadrícula de la gráfica\n",
        "plt.show()"
      ]
    }
  ],
  "metadata": {
    "kernelspec": {
      "display_name": "Python 3 (ipykernel)",
      "language": "python",
      "name": "python3"
    },
    "language_info": {
      "codemirror_mode": {
        "name": "ipython",
        "version": 3
      },
      "file_extension": ".py",
      "mimetype": "text/x-python",
      "name": "python",
      "nbconvert_exporter": "python",
      "pygments_lexer": "ipython3",
      "version": "3.7.3"
    },
    "colab": {
      "provenance": [],
      "include_colab_link": true
    }
  },
  "nbformat": 4,
  "nbformat_minor": 5
}