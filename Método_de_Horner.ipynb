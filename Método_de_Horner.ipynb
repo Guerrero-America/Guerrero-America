{
  "cells": [
    {
      "cell_type": "markdown",
      "metadata": {
        "id": "view-in-github",
        "colab_type": "text"
      },
      "source": [
        "<a href=\"https://colab.research.google.com/github/Guerrero-America/MetodosNumericos/blob/main/M%C3%A9todo_de_Horner.ipynb\" target=\"_parent\"><img src=\"https://colab.research.google.com/assets/colab-badge.svg\" alt=\"Open In Colab\"/></a>"
      ]
    },
    {
      "cell_type": "markdown",
      "id": "3154e14b",
      "metadata": {
        "id": "3154e14b"
      },
      "source": [
        "# Método de Horner en:\n",
        "# $f(x)=2x^{4}-3x^{2}+3x-4$"
      ]
    },
    {
      "cell_type": "code",
      "execution_count": null,
      "id": "9d5e2287",
      "metadata": {
        "id": "9d5e2287"
      },
      "outputs": [],
      "source": [
        "from math import *\n",
        "import numpy as np\n",
        "import matplotlib . pyplot as plt\n",
        "from IPython.display import display, Markdown"
      ]
    },
    {
      "cell_type": "code",
      "execution_count": null,
      "id": "DF4GMjpvi5TY",
      "metadata": {
        "colab": {
          "base_uri": "https://localhost:8080/"
        },
        "id": "DF4GMjpvi5TY",
        "outputId": "82cef432-bd5b-4680-b164-0bc39c2f1a1e"
      },
      "outputs": [
        {
          "output_type": "stream",
          "name": "stdout",
          "text": [
            "f(x)= 2*x**4 - 3*x**2 + 3*x - 4\n",
            "f'(x)= 8*x**3 - 6*x + 3\n"
          ]
        }
      ],
      "source": [
        "import sympy as sp\n",
        "  # definir x como simbolo\n",
        "x=sp.Symbol('x')\n",
        "  # se calculará la derivada de f(x)\n",
        "df=sp.diff(2*x**4-3*x**2+3*x-4,x)\n",
        "  # se imprime las funciones\n",
        "print(\"f(x)=\",2*x**4-3*x**2+3*x-4)\n",
        "print(\"f'(x)=\",df)"
      ]
    },
    {
      "cell_type": "code",
      "execution_count": null,
      "id": "ZKSwfKFBko9j",
      "metadata": {
        "id": "ZKSwfKFBko9j"
      },
      "outputs": [],
      "source": [
        "# Se definen las funciones\n",
        "def P(x):\n",
        "    return 2*x**4 - 3*x**2 + 3*x - 4\n",
        "def d(x):\n",
        "    return 8*x**3 - 6*x + 3"
      ]
    },
    {
      "cell_type": "code",
      "execution_count": null,
      "id": "qeje89mGritA",
      "metadata": {
        "id": "qeje89mGritA"
      },
      "outputs": [],
      "source": []
    },
    {
      "cell_type": "code",
      "execution_count": 102,
      "id": "maGEqk5CpG1x",
      "metadata": {
        "colab": {
          "base_uri": "https://localhost:8080/",
          "height": 704
        },
        "id": "maGEqk5CpG1x",
        "outputId": "8614c310-a981-4235-bba3-c24bd2ba026b"
      },
      "outputs": [
        {
          "output_type": "stream",
          "name": "stdout",
          "text": [
            "División para P(x):\n",
            "Q(x): [2, -4, 5, -7] | P( -2 ) = 10\n",
            "\n",
            "División para P'(x):\n",
            "Q(x): [2, 16, 165] | P'( -2 ) = 1643\n"
          ]
        },
        {
          "output_type": "display_data",
          "data": {
            "text/plain": [
              "<IPython.core.display.Markdown object>"
            ],
            "text/markdown": "$$P(x) \\approx (x -2)*Q(x)$$"
          },
          "metadata": {}
        },
        {
          "output_type": "stream",
          "name": "stdout",
          "text": [
            "La raíz aproximada de la función dada por el polinomio P(x) es -1.7959184\n",
            "División para P(x):\n",
            "Q(x): [2, -3.5918367346938775, 3.4506455643481884, -3.197077748217154] | P( -1.7959183673469388 ) = 1.741690649859379\n",
            "\n",
            "División para P'(x):\n",
            "Q(x): [2, -0.10845543497511967, 3.2617497473255908] | P'( -1.7959183673469388 ) = 2.483881288881019\n"
          ]
        },
        {
          "output_type": "display_data",
          "data": {
            "text/plain": [
              "<IPython.core.display.Markdown object>"
            ],
            "text/markdown": "$$P(x) \\approx (x -1.7959183673469388)*Q(x)$$"
          },
          "metadata": {}
        },
        {
          "output_type": "stream",
          "name": "stdout",
          "text": [
            "La raíz aproximada de la función dada por el polinomio P(x) es -1.7424329\n",
            "División para P(x):\n",
            "Q(x): [2, -3.4848658335010843, 3.0721449387516033, -2.353006466309372] | P( -1.7424329167505421 ) = 0.09995592022432565\n",
            "\n",
            "División para P'(x):\n",
            "Q(x): [2, -3.284953993052433, 2.7437943394814743] | P'( -1.7424329167505421 ) = -2.0787479782002056\n"
          ]
        },
        {
          "output_type": "display_data",
          "data": {
            "text/plain": [
              "<IPython.core.display.Markdown object>"
            ],
            "text/markdown": "$$P(x) \\approx (x -1.7424329167505421)*Q(x)$$"
          },
          "metadata": {}
        },
        {
          "output_type": "stream",
          "name": "stdout",
          "text": [
            "La raíz aproximada de la función dada por el polinomio P(x) es -1.7389702\n",
            "División para P(x):\n",
            "Q(x): [2, -3.4779404706723334, 3.0480349587702458, -2.300442069565557] | P( -1.7389702353361667 ) = 0.0004002870896355759\n",
            "\n",
            "División para P'(x):\n",
            "Q(x): [2, -3.477139896493062, 3.0466431045608227] | P'( -1.7389702353361667 ) = -2.299222537664074\n"
          ]
        },
        {
          "output_type": "display_data",
          "data": {
            "text/plain": [
              "<IPython.core.display.Markdown object>"
            ],
            "text/markdown": "$$P(x) \\approx (x -1.7389702353361667)*Q(x)$$"
          },
          "metadata": {}
        },
        {
          "output_type": "stream",
          "name": "stdout",
          "text": [
            "La raíz aproximada de la función dada por el polinomio P(x) es -1.7389563\n",
            "División para P(x):\n",
            "Q(x): [2, -3.4779125133580986, 3.047937725286423, -2.300230377354935] | P( -1.7389562566790493 ) = 6.504574656673867e-09\n",
            "\n",
            "División para P'(x):\n",
            "Q(x): [2, -3.4779125003489493, 3.0479377026640817] | P'( -1.7389562566790493 ) = -2.3002303575293963\n"
          ]
        },
        {
          "output_type": "display_data",
          "data": {
            "text/plain": [
              "<IPython.core.display.Markdown object>"
            ],
            "text/markdown": "$$P(x) \\approx (x -1.7389562566790493)*Q(x)$$"
          },
          "metadata": {}
        },
        {
          "output_type": "stream",
          "name": "stdout",
          "text": [
            "La raíz aproximada de la función dada por el polinomio P(x) es -1.7389563\n"
          ]
        }
      ],
      "source": [
        "# MÉTODO DE HORNER\n",
        "\n",
        "def division_sinteticaP(coeficientes, x0):\n",
        "    cociente = []\n",
        "    residuo = coeficientes[0]\n",
        "\n",
        "    for i in range(1, len(coeficientes)):\n",
        "        nuevo_valor = residuo * x0 + coeficientes[i]\n",
        "        cociente.append(residuo)\n",
        "        residuo = nuevo_valor\n",
        "\n",
        "    cociente.append(residuo)\n",
        "    return cociente[:-1], residuo  # Devuelve el cociente y el residuo\n",
        "\n",
        "def division_sinteticaPp(coeficientes, x0):\n",
        "    print(\"División para P(x):\")\n",
        "    cociente, residuo = division_sinteticaP(coeficientes, x0)\n",
        "    print(\"Q(x):\", cociente, \"| P(\", x0, \") =\", residuo)\n",
        "\n",
        "    print(\"\\nDivisión para P'(x):\")\n",
        "    cociente, residuo = division_sinteticaP(cociente, residuo)  # Usa el cociente de la primera división\n",
        "    print(\"Q(x):\", cociente, \"| P'(\", x0, \") =\", residuo)\n",
        "\n",
        "    return cociente, residuo  # Devuelve el cociente y residuo después de la segunda división\n",
        "\n",
        "# Aplicandolo en P(x)=2x^4 - 3x^2 + 3x - 4\n",
        "coeficientes = [2, 0, -3, 3, -4]  # Coeficientes de P(x) = 2x^4 - 3x^2 + 3x - 4\n",
        "x0 = -2  # Valor inicial de X0\n",
        "tolerancia = 10**-5  # Tolerancia\n",
        "diferencia = float('inf')  # Inicializa la diferencia\n",
        "\n",
        "while len(cociente_final) > 2 and diferencia > tolerancia:\n",
        "    cociente_final, residuo_final = division_sinteticaPp(coeficientes, x0)\n",
        "    display(Markdown(f\"$$P(x) \\\\approx (x {x0})*Q(x)$$\"))\n",
        "\n",
        "    # Calcular X1\n",
        "    X1 = x0 - (P(x0) / d(x0))\n",
        "    print(\"La raíz aproximada de la función dada por el polinomio P(x) es {0:6.7f}\".format(X1))\n",
        "\n",
        "    # Calcular la diferencia\n",
        "    diferencia = abs(X1 - x0)\n",
        "\n",
        "    # Actualizar x0 para la próxima iteración\n",
        "    x0 = X1\n"
      ]
    },
    {
      "cell_type": "code",
      "execution_count": null,
      "id": "b59ace03",
      "metadata": {
        "colab": {
          "base_uri": "https://localhost:8080/",
          "height": 456
        },
        "id": "b59ace03",
        "outputId": "ea680c4a-5a70-4c38-d9ac-6bbb2ac62111"
      },
      "outputs": [
        {
          "output_type": "display_data",
          "data": {
            "text/plain": [
              "<Figure size 640x480 with 1 Axes>"
            ],
            "image/png": "[encoded data removed]"
          },
          "metadata": {}
        }
      ],
      "source": [
        "# Valores del eje X que toma el gráfico.\n",
        "x=np.linspace(-100,100,4000)\n",
        "\n",
        "# Graficar funcion\n",
        "plt.plot(x,P(x))\n",
        "\n",
        "#Características de la gráfica\n",
        "plt.title(\"Método de Horner en $P(x)=2x^{4}-3x^{2}+3x-4$\") # Título\n",
        "plt.legend([r\"$P(x)=2x^{4}-3x^{2}+3x-4$\"]) #Leyenda\n",
        "plt.axhline(0, color=\"black\")\n",
        "plt.axvline(0, color=\"black\") # Localización de los ejes ordenados\n",
        "plt.xlim(-2, 2)\n",
        "plt.ylim(-6, 6) # Límites de los ejes ordenados\n",
        "plt.xticks(np.arange(-2, 2, 0.5))\n",
        "plt.yticks(np.arange(-6, 6, 1)) # Escala de la gráfica\n",
        "plt.grid(color=\"grey\") # Cuadrícula de la gráfica\n",
        "plt.show()"
      ]
    }
  ],
  "metadata": {
    "colab": {
      "provenance": [],
      "include_colab_link": true
    },
    "kernelspec": {
      "display_name": "Python 3 (ipykernel)",
      "language": "python",
      "name": "python3"
    },
    "language_info": {
      "codemirror_mode": {
        "name": "ipython",
        "version": 3
      },
      "file_extension": ".py",
      "mimetype": "text/x-python",
      "name": "python",
      "nbconvert_exporter": "python",
      "pygments_lexer": "ipython3",
      "version": "3.7.3"
    }
  },
  "nbformat": 4,
  "nbformat_minor": 5
}