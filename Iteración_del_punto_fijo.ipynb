{
  "cells": [
    {
      "cell_type": "markdown",
      "metadata": {
        "id": "view-in-github",
        "colab_type": "text"
      },
      "source": [
        "<a href=\"https://colab.research.google.com/github/Guerrero-America/MetodosNumericos/blob/main/Iteraci%C3%B3n_del_punto_fijo.ipynb\" target=\"_parent\"><img src=\"https://colab.research.google.com/assets/colab-badge.svg\" alt=\"Open In Colab\"/></a>"
      ]
    },
    {
      "cell_type": "markdown",
      "id": "3154e14b",
      "metadata": {
        "id": "3154e14b"
      },
      "source": [
        "# Método de iteración del punto fijo en:\n",
        "# $f(x)=x^{3}+4x^{2}-10$"
      ]
    },
    {
      "cell_type": "code",
      "execution_count": 2,
      "id": "9d5e2287",
      "metadata": {
        "id": "9d5e2287"
      },
      "outputs": [],
      "source": [
        "from math import *\n",
        "import numpy as np\n",
        "import matplotlib . pyplot as plt"
      ]
    },
    {
      "cell_type": "code",
      "execution_count": 3,
      "id": "db980446",
      "metadata": {
        "id": "db980446"
      },
      "outputs": [],
      "source": [
        "def f(x):\n",
        "  return x**3 + 4*x**2 - 10.0"
      ]
    },
    {
      "cell_type": "markdown",
      "source": [
        "Como al evaluar $f(x)$ en los límites del intervalo [1,2] las evaluaciones son de diferentes signos, es decir, $f(1)<0$ y $f(2)>0$ en $f(x)$ no hay un punto fijo. por lo que se reescribiá $f(x)$ como $g(x)$ de manera que $g(1)>0<g(2)$"
      ],
      "metadata": {
        "id": "ILguE50zUiES"
      },
      "id": "ILguE50zUiES"
    },
    {
      "cell_type": "code",
      "source": [
        "#definiremos g(x), igualando x al despeje de x^2 factorizada de x^3+4x^2\n",
        "def g(x):\n",
        "  return (10/(4+x))**(1/2)\n",
        "#funcion identidad\n",
        "def I(x):\n",
        "  return x"
      ],
      "metadata": {
        "id": "p_c7lobiVjt-"
      },
      "id": "p_c7lobiVjt-",
      "execution_count": 20,
      "outputs": []
    },
    {
      "cell_type": "code",
      "source": [
        "g(1), g(2)"
      ],
      "metadata": {
        "colab": {
          "base_uri": "https://localhost:8080/"
        },
        "id": "TLGZZ8lUX1zm",
        "outputId": "a80549e1-adec-4f8c-b253-c1674feb64e7"
      },
      "id": "TLGZZ8lUX1zm",
      "execution_count": 14,
      "outputs": [
        {
          "output_type": "execute_result",
          "data": {
            "text/plain": [
              "(1.4142135623730951, 1.2909944487358056)"
            ]
          },
          "metadata": {},
          "execution_count": 14
        }
      ]
    },
    {
      "cell_type": "markdown",
      "source": [
        "Como $g(1)>0<g(2)$ hay un punto fijo en $g(x)$ con $x \\in [1,2] $"
      ],
      "metadata": {
        "id": "fgWfLqjtFEAf"
      },
      "id": "fgWfLqjtFEAf"
    },
    {
      "cell_type": "code",
      "execution_count": 6,
      "id": "679a51af",
      "metadata": {
        "id": "679a51af"
      },
      "outputs": [],
      "source": [
        "# Ingreso datos de entrada para los diferentes métodos a trabajar\n",
        "P0 = 1 #aproximación inicial\n",
        "tol = 0.001 # El error debe estar dentro de 10^-2\n",
        "nmax = 100 # numero máximo de iteraciones\n",
        "error = 100\n",
        "niter = 1 # contador de iteraciones\n",
        "a=1  # inicio del intervalo\n",
        "b=2  # final del intervalo"
      ]
    },
    {
      "cell_type": "code",
      "execution_count": 57,
      "id": "6b4c08a0",
      "metadata": {
        "id": "6b4c08a0",
        "outputId": "dfff15c6-0300-4b1e-cb33-bc05214a9330",
        "colab": {
          "base_uri": "https://localhost:8080/"
        }
      },
      "outputs": [
        {
          "output_type": "stream",
          "name": "stdout",
          "text": [
            "# iter\t\t P \t\t g(P) \t\t error\n",
            "1 \t\t 1.0000 \t 1.4142 \t 100.0000\n",
            "2 \t\t 1.4142 \t 1.4142 \t 0.4142\n",
            "3 \t\t 1.3590 \t 1.4142 \t 0.0552\n",
            "4 \t\t 1.3660 \t 1.4142 \t 0.0070\n",
            "La raíz de la función dada en el intervalo [1.0000,2.0000] es 1.3651297\n"
          ]
        }
      ],
      "source": [
        "# MÉTODO DE IERACIÓN DEL PUNTO FIJO\n",
        "gp = g(P0) #Evaluacion de la función en la aproximación inicial indicada P0=1\n",
        "\n",
        "print(\"# iter\\t\\t P \\t\\t g(P) \\t\\t error\") # Se mostrará el encabezado de la tabla\n",
        "print(\"{0} \\t\\t {1:6.4f} \\t {2:6.4f} \\t {3:6.4f}\".format(niter, P0, gp, error )) # Se mostrará la primera iteración\n",
        "\n",
        "# ciclo iterativo\n",
        "while niter < nmax:\n",
        "    P = g(P0) # Calcula P1\n",
        "    if abs(P - P0) < tol: # Condición de parada, si el valor absoluto de la diferencia de aproximaciones (inicial y nueva) es menor a la tolerancia (en este caso 0.001) se acaba el ciclo iterativo\n",
        "      print(\"La raíz de la función dada en el intervalo [{0:6.4f},{1:6.4f}] es {2:6.7f}\".format(a,b,P)) # Se mostrará la raíz encontrada\n",
        "      break\n",
        "    else:\n",
        "      error = abs(P - P0) # Se calcula el error\n",
        "      niter += 1 # Se aumenta el contador de iteraciones\n",
        "      P0 = P # Se actualiza la aproximación\n",
        "      print(\"{0} \\t\\t {1:6.4f} \\t {2:6.4f} \\t {3:6.4f}\".format(niter, P, gp, error )) # Se mostrará la siguiente iteración"
      ]
    },
    {
      "cell_type": "code",
      "execution_count": 58,
      "id": "b59ace03",
      "metadata": {
        "id": "b59ace03",
        "colab": {
          "base_uri": "https://localhost:8080/",
          "height": 661
        },
        "outputId": "f1a79046-602b-416b-ca9b-8cfc8706630e"
      },
      "outputs": [
        {
          "output_type": "stream",
          "name": "stderr",
          "text": [
            "<ipython-input-20-07481746fd7d>:3: RuntimeWarning: invalid value encountered in sqrt\n",
            "  return (10/(4+x))**(1/2)\n"
          ]
        },
        {
          "output_type": "execute_result",
          "data": {
            "text/plain": [
              "<function matplotlib.pyplot.show(close=None, block=None)>"
            ],
            "text/html": [
              "<div style=\"max-width:800px; border: 1px solid var(--colab-border-color);\"><style>\n",
              "      pre.function-repr-contents {\n",
              "        overflow-x: auto;\n",
              "        padding: 8px 12px;\n",
              "        max-height: 500px;\n",
              "      }\n",
              "\n",
              "      pre.function-repr-contents.function-repr-contents-collapsed {\n",
              "        cursor: pointer;\n",
              "        max-height: 100px;\n",
              "      }\n",
              "    </style>\n",
              "    <pre style=\"white-space: initial; background:\n",
              "         var(--colab-secondary-surface-color); padding: 8px 12px;\n",
              "         border-bottom: 1px solid var(--colab-border-color);\"><b>matplotlib.pyplot.show</b><br/>def show(*args, **kwargs)</pre><pre class=\"function-repr-contents function-repr-contents-collapsed\" style=\"\"><a class=\"filepath\" style=\"display:none\" href=\"#\">/usr/local/lib/python3.10/dist-packages/matplotlib/pyplot.py</a>Display all open figures.\n",
              "\n",
              "Parameters\n",
              "----------\n",
              "block : bool, optional\n",
              "    Whether to wait for all figures to be closed before returning.\n",
              "\n",
              "    If `True` block and run the GUI main loop until all figure windows\n",
              "    are closed.\n",
              "\n",
              "    If `False` ensure that all figure windows are displayed and return\n",
              "    immediately.  In this case, you are responsible for ensuring\n",
              "    that the event loop is running to have responsive figures.\n",
              "\n",
              "    Defaults to True in non-interactive mode and to False in interactive\n",
              "    mode (see `.pyplot.isinteractive`).\n",
              "\n",
              "See Also\n",
              "--------\n",
              "ion : Enable interactive mode, which shows / updates the figure after\n",
              "      every plotting command, so that calling ``show()`` is not necessary.\n",
              "ioff : Disable interactive mode.\n",
              "savefig : Save the figure to an image file instead of showing it on screen.\n",
              "\n",
              "Notes\n",
              "-----\n",
              "**Saving figures to file and showing a window at the same time**\n",
              "\n",
              "If you want an image file as well as a user interface window, use\n",
              "`.pyplot.savefig` before `.pyplot.show`. At the end of (a blocking)\n",
              "``show()`` the figure is closed and thus unregistered from pyplot. Calling\n",
              "`.pyplot.savefig` afterwards would save a new and thus empty figure. This\n",
              "limitation of command order does not apply if the show is non-blocking or\n",
              "if you keep a reference to the figure and use `.Figure.savefig`.\n",
              "\n",
              "**Auto-show in jupyter notebooks**\n",
              "\n",
              "The jupyter backends (activated via ``%matplotlib inline``,\n",
              "``%matplotlib notebook``, or ``%matplotlib widget``), call ``show()`` at\n",
              "the end of every cell by default. Thus, you usually don&#x27;t have to call it\n",
              "explicitly there.</pre>\n",
              "      <script>\n",
              "      if (google.colab.kernel.accessAllowed && google.colab.files && google.colab.files.view) {\n",
              "        for (const element of document.querySelectorAll('.filepath')) {\n",
              "          element.style.display = 'block'\n",
              "          element.onclick = (event) => {\n",
              "            event.preventDefault();\n",
              "            event.stopPropagation();\n",
              "            google.colab.files.view(element.textContent, 401);\n",
              "          };\n",
              "        }\n",
              "      }\n",
              "      for (const element of document.querySelectorAll('.function-repr-contents')) {\n",
              "        element.onclick = (event) => {\n",
              "          event.preventDefault();\n",
              "          event.stopPropagation();\n",
              "          element.classList.toggle('function-repr-contents-collapsed');\n",
              "        };\n",
              "      }\n",
              "      </script>\n",
              "      </div>"
            ]
          },
          "metadata": {},
          "execution_count": 58
        },
        {
          "output_type": "display_data",
          "data": {
            "text/plain": [
              "<Figure size 640x480 with 1 Axes>"
            ],
            "image/png": "[encoded data removed]"
          },
          "metadata": {}
        }
      ],
      "source": [
        "# Valores del eje X que toma el gráfico.\n",
        "x=np.linspace(-100,100,1000)\n",
        "\n",
        "# Graficar ambas funciones.\n",
        "plt.plot(x, f(x),color=\"grey\",linestyle=\"dotted\") # Se graficará de forma punteada para tener la referencia de que no hay unto fijo en f(x)\n",
        "plt.plot(x, g(x)) # Funció de la que se calculo el punto fijo\n",
        "plt.plot(x, I(x),color=\"black\") # Se graficará para tener la referencia de donde se encuentra el punto fijo al ser intersectada por g(x)\n",
        "plt.plot(1.3651297,1.3651297, marker=\"o\", color=\"red\") # Se graficará el punto fijo\n",
        "\n",
        "# Características de la gráfica\n",
        "plt.title(\"Método de iteración del punto fijo de $f(x)=x^{3}+4x^{2}-10$\") # Título\n",
        "plt.legend([r\"$f(x)=x^{3}+4x^{2}-10$\",\n",
        "            r\"$g(x)=(\\frac{10}{4+x})^{\\frac{1}{2}}$\",\n",
        "            r\"$Función Identidad$\",\n",
        "            r\"$PuntoFijoDe g(x)$\"]) # Leyenda\n",
        "plt.axhline(0, color=\"black\")\n",
        "plt.axvline(0, color=\"black\") # Localización de los ejes ordenados\n",
        "plt.xlim(-1, 3)\n",
        "plt.ylim(-1, 3) # Límites de los ejes ordenados\n",
        "plt.xticks(np.arange(-1, 3, 1))\n",
        "plt.yticks(np.arange(-1, 3, 1)) # Escala de la gráfica\n",
        "plt.grid(color=\"grey\") # Cuadrícula de la gráfica\n",
        "\n",
        "# Marcaremos el cuadrado en donde debe estar el punto fijo\n",
        "x_coords = [1, 1, 2, 2, 1]\n",
        "y_coords = [2, 1, 1, 2, 2] # Coordenadas del cuadrado donde debe estar el punto fijo\n",
        "plt.plot(x_coords, y_coords,color=\"blue\", linewidth=2) # Características del cuadrado\n",
        "\n",
        "# Mostrar el gráfico.\n",
        "plt.show"
      ]
    }
  ],
  "metadata": {
    "kernelspec": {
      "display_name": "Python 3 (ipykernel)",
      "language": "python",
      "name": "python3"
    },
    "language_info": {
      "codemirror_mode": {
        "name": "ipython",
        "version": 3
      },
      "file_extension": ".py",
      "mimetype": "text/x-python",
      "name": "python",
      "nbconvert_exporter": "python",
      "pygments_lexer": "ipython3",
      "version": "3.7.3"
    },
    "colab": {
      "provenance": [],
      "include_colab_link": true
    }
  },
  "nbformat": 4,
  "nbformat_minor": 5
}