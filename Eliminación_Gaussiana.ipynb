{
  "nbformat": 4,
  "nbformat_minor": 0,
  "metadata": {
    "colab": {
      "provenance": [],
      "authorship_tag": "ABX9TyMG+v60Q+k0Ja4ihEWoT5Nq",
      "include_colab_link": true
    },
    "kernelspec": {
      "name": "python3",
      "display_name": "Python 3"
    },
    "language_info": {
      "name": "python"
    }
  },
  "cells": [
    {
      "cell_type": "markdown",
      "metadata": {
        "id": "view-in-github",
        "colab_type": "text"
      },
      "source": [
        "<a href=\"https://colab.research.google.com/github/Guerrero-America/MetodosNumericos/blob/main/Eliminaci%C3%B3n_Gaussiana.ipynb\" target=\"_parent\"><img src=\"https://colab.research.google.com/assets/colab-badge.svg\" alt=\"Open In Colab\"/></a>"
      ]
    },
    {
      "cell_type": "code",
      "execution_count": 1,
      "metadata": {
        "id": "p6906Dd8Q5og"
      },
      "outputs": [],
      "source": [
        "import numpy as np"
      ]
    },
    {
      "cell_type": "code",
      "source": [
        "def eliminacion_gaussiana(A,b):\n",
        "  # Se resolverá el sistema de ecuaciones Ax = b, con eliminación gaussiana\n",
        "  # A == matriz de coeficientes de tamaño nxn; b == términos independientes\n",
        "\n",
        "  # Inicializar variables\n",
        "  n = len(A) # cantidad de ecuaciones e incógnitas\n",
        "  A = np.array(A, dtype=float)  # Asegurar que los cálculos sean con flotantes\n",
        "  b = np.array(b, dtype=float)\n",
        "  NROW = np.arange(n)  # Vector indicador de fila\n",
        "\n",
        "  # Proceso de eliminación\n",
        "  for i in range(n):\n",
        "\n",
        "      # Encontrar pivote\n",
        "      p = i + np.argmax(np.abs(A[i:, i]))\n",
        "      if A[p, i] == 0:\n",
        "          return \"No existe solución única\"\n",
        "\n",
        "      # Intercambiar filas si es necesario\n",
        "      if p != i:\n",
        "          A[[i, p]] = A[[p, i]]\n",
        "          b[[i, p]] = b[[p, i]]\n",
        "\n",
        "      # Eliminar elementos debajo del pivote\n",
        "      for j in range(i + 1, n):\n",
        "          m = A[j, i] / A[i, i]\n",
        "          A[j, i:] -= m * A[i, i:]\n",
        "          b[j] -= m * b[i]\n",
        "\n",
        "  # Verificación de solución única\n",
        "  if A[n-1, n-1] == 0:\n",
        "      return \"No existe solución única\"\n",
        "\n",
        "  # Sustitución hacia atrás\n",
        "  x = np.zeros(n)\n",
        "  for i in range(n - 1, -1, -1):\n",
        "      x[i] = (b[i] - np.dot(A[i, i+1:], x[i+1:])) / A[i, i]\n",
        "\n",
        "  return x\n"
      ],
      "metadata": {
        "id": "P22ByhrRRBiB"
      },
      "execution_count": 7,
      "outputs": []
    },
    {
      "cell_type": "code",
      "source": [
        "# Resolución del ejemplo 2, pág 275\n",
        "if __name__ == \"__main__\":\n",
        "    A = [\n",
        "        [1, -1, 2, -1],\n",
        "        [2, -2, 3, -3],\n",
        "        [1, 1, 1, 0],\n",
        "        [1, -1, 4, 3]\n",
        "        ]\n",
        "    b = [-8, -20, -2, 4]\n",
        "\n",
        "    resultado = eliminacion_gaussiana(A, b)\n",
        "    print(\"Resultado:\", resultado)"
      ],
      "metadata": {
        "colab": {
          "base_uri": "https://localhost:8080/"
        },
        "id": "20gCELInUBge",
        "outputId": "cf703f07-be66-48a1-9406-bfbd327cd5c6"
      },
      "execution_count": 9,
      "outputs": [
        {
          "output_type": "stream",
          "name": "stdout",
          "text": [
            "Resultado: [-7.  3.  2.  2.]\n"
          ]
        }
      ]
    },
    {
      "cell_type": "code",
      "source": [],
      "metadata": {
        "id": "MmlV_DsGU1r_"
      },
      "execution_count": null,
      "outputs": []
    }
  ]
}