{
  "nbformat": 4,
  "nbformat_minor": 0,
  "metadata": {
    "colab": {
      "provenance": [],
      "authorship_tag": "ABX9TyOXmeQNXqUZJ+HP/UOrvTo5",
      "include_colab_link": true
    },
    "kernelspec": {
      "name": "python3",
      "display_name": "Python 3"
    },
    "language_info": {
      "name": "python"
    }
  },
  "cells": [
    {
      "cell_type": "markdown",
      "metadata": {
        "id": "view-in-github",
        "colab_type": "text"
      },
      "source": [
        "<a href=\"https://colab.research.google.com/github/Guerrero-America/MetodosNumericos/blob/main/Pivoteo_Parcial.ipynb\" target=\"_parent\"><img src=\"https://colab.research.google.com/assets/colab-badge.svg\" alt=\"Open In Colab\"/></a>"
      ]
    },
    {
      "cell_type": "code",
      "source": [
        "import numpy as np"
      ],
      "metadata": {
        "id": "t765nGb4F84z"
      },
      "execution_count": 1,
      "outputs": []
    },
    {
      "cell_type": "code",
      "source": [
        "def pivoteo_parcial(A,b):\n",
        "  # Se resolverá el sistema de ecuaciones Ax = b, con eliminación gaussiana por pivoteo parcial\n",
        "  # A == matriz de coeficientes de tamaño nxn; b == términos independientes\n",
        "\n",
        "  # Inicializar variables\n",
        "  n = len(A)\n",
        "  A = np.array(A, dtype=float)  # Asegurar que los cálculos sean con flotantes\n",
        "  b = np.array(b, dtype=float)\n",
        "  NROW = np.arange(n)  # Vector indicador de fila\n",
        "\n",
        "  # Proceso de eliminación\n",
        "  for i in range(n):\n",
        "\n",
        "      # Determinar el pivote\n",
        "      p = i + np.argmax(np.abs(A[NROW[i:], i]))\n",
        "      if A[NROW[p], i] == 0:\n",
        "          return \"No existe solución única\"\n",
        "\n",
        "      # Intercambiar filas si es necesario\n",
        "      if NROW[i] != NROW[p]:\n",
        "          NROW[i], NROW[p] = NROW[p], NROW[i]\n",
        "\n",
        "      # Eliminar elementos por debajo del pivote\n",
        "      for j in range(i + 1, n):\n",
        "          m = A[NROW[j], i] / A[NROW[i], i]\n",
        "          A[NROW[j], i:] -= m * A[NROW[i], i:]\n",
        "          b[NROW[j]] -= m * b[NROW[i]]\n",
        "\n",
        "  # Verificar si el sistema tiene solución única\n",
        "  if np.any(np.diag(A[NROW]) == 0):\n",
        "      return \"No existe solución única\"\n",
        "\n",
        "  # Sustitución hacia atrás\n",
        "  x = np.zeros(n)\n",
        "  for i in range(n - 1, -1, -1):\n",
        "      x[i] = (b[NROW[i]] - np.dot(A[NROW[i], i + 1:], x[i + 1:])) / A[NROW[i], i]\n",
        "\n",
        "  return x"
      ],
      "metadata": {
        "id": "Ww4hFI32GIZj"
      },
      "execution_count": 4,
      "outputs": []
    },
    {
      "cell_type": "code",
      "source": [
        "# Resolución del ejemplo 2, pág 281\n",
        "if __name__ == \"__main__\":\n",
        "    # Matriz de coeficientes y vector independiente\n",
        "    A = [\n",
        "        [5.291, -6.130],\n",
        "        [0.003000, 59.14]\n",
        "        ]\n",
        "    b = [46.78, 59.17]\n",
        "\n",
        "    # Resolver el sistema\n",
        "    resultado = pivoteo_parcial(A, b)\n",
        "    print(\"Resultado:\", resultado)\n"
      ],
      "metadata": {
        "colab": {
          "base_uri": "https://localhost:8080/"
        },
        "id": "AFPOJSKpItYQ",
        "outputId": "173ac833-206a-4a8a-d408-99c3d2005a7c"
      },
      "execution_count": 6,
      "outputs": [
        {
          "output_type": "stream",
          "name": "stdout",
          "text": [
            "Resultado: [10.  1.]\n"
          ]
        }
      ]
    },
    {
      "cell_type": "code",
      "source": [],
      "metadata": {
        "id": "GO14CuWQJpCn"
      },
      "execution_count": null,
      "outputs": []
    }
  ]
}