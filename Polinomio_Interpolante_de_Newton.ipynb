{
  "cells": [
    {
      "cell_type": "markdown",
      "metadata": {
        "id": "view-in-github",
        "colab_type": "text"
      },
      "source": [
        "<a href=\"https://colab.research.google.com/github/Guerrero-America/MetodosNumericos/blob/main/Polinomio_Interpolante_de_Newton.ipynb\" target=\"_parent\"><img src=\"https://colab.research.google.com/assets/colab-badge.svg\" alt=\"Open In Colab\"/></a>"
      ]
    },
    {
      "cell_type": "markdown",
      "metadata": {
        "id": "bQ7Lv9c5qh3G"
      },
      "source": [
        "### ***POLINOMIO INTERPOLANTE DE NEWTON***\n",
        "\n",
        "$Y_k= Y_0 + \\binom{k}{1} \\cdot \\Delta Y_0 + \\binom{k}{2} \\cdot \\Delta^2 Y_0 + \\binom{k}{3} \\cdot \\Delta^3 Y_0 + \\cdots + \\binom{k}{j} \\cdot \\Delta^j Y_0 + \\binom{k}{k} \\cdot \\Delta^k Y_0$"
      ]
    },
    {
      "cell_type": "code",
      "execution_count": null,
      "metadata": {
        "id": "wcMddFgBy_rs"
      },
      "outputs": [],
      "source": [
        "# se importan las librerías que se usarán\n",
        "import numpy as np\n",
        "import matplotlib.pyplot as plt\n",
        "import sympy as syp\n",
        "import scipy.special as spc\n",
        "from math import *"
      ]
    },
    {
      "cell_type": "code",
      "execution_count": null,
      "metadata": {
        "id": "VVIHx_l6zLZ-"
      },
      "outputs": [],
      "source": [
        "# Se crean los arreglos con los datos correspondientes a X y a Y=F(X)\n",
        "F=np.array([-5, 1, 9, 25, 55, 105]) # datos de Y=F(X)\n",
        "X=np.array([0, 1, 2, 3, 4, 5]) # datos de X"
      ]
    },
    {
      "cell_type": "code",
      "execution_count": null,
      "metadata": {
        "colab": {
          "base_uri": "https://localhost:8080/",
          "height": 618
        },
        "id": "Jvkuko340eq_",
        "outputId": "0f3e10a7-e696-464d-f599-e6a5e1b80496"
      },
      "outputs": [
        {
          "output_type": "execute_result",
          "data": {
            "text/plain": [
              "<function matplotlib.pyplot.show(close=None, block=None)>"
            ],
            "text/html": [
              "<div style=\"max-width:800px; border: 1px solid var(--colab-border-color);\"><style>\n",
              "      pre.function-repr-contents {\n",
              "        overflow-x: auto;\n",
              "        padding: 8px 12px;\n",
              "        max-height: 500px;\n",
              "      }\n",
              "\n",
              "      pre.function-repr-contents.function-repr-contents-collapsed {\n",
              "        cursor: pointer;\n",
              "        max-height: 100px;\n",
              "      }\n",
              "    </style>\n",
              "    <pre style=\"white-space: initial; background:\n",
              "         var(--colab-secondary-surface-color); padding: 8px 12px;\n",
              "         border-bottom: 1px solid var(--colab-border-color);\"><b>matplotlib.pyplot.show</b><br/>def show(*args, **kwargs)</pre><pre class=\"function-repr-contents function-repr-contents-collapsed\" style=\"\"><a class=\"filepath\" style=\"display:none\" href=\"#\">/usr/local/lib/python3.10/dist-packages/matplotlib/pyplot.py</a>Display all open figures.\n",
              "\n",
              "Parameters\n",
              "----------\n",
              "block : bool, optional\n",
              "    Whether to wait for all figures to be closed before returning.\n",
              "\n",
              "    If `True` block and run the GUI main loop until all figure windows\n",
              "    are closed.\n",
              "\n",
              "    If `False` ensure that all figure windows are displayed and return\n",
              "    immediately.  In this case, you are responsible for ensuring\n",
              "    that the event loop is running to have responsive figures.\n",
              "\n",
              "    Defaults to True in non-interactive mode and to False in interactive\n",
              "    mode (see `.pyplot.isinteractive`).\n",
              "\n",
              "See Also\n",
              "--------\n",
              "ion : Enable interactive mode, which shows / updates the figure after\n",
              "      every plotting command, so that calling ``show()`` is not necessary.\n",
              "ioff : Disable interactive mode.\n",
              "savefig : Save the figure to an image file instead of showing it on screen.\n",
              "\n",
              "Notes\n",
              "-----\n",
              "**Saving figures to file and showing a window at the same time**\n",
              "\n",
              "If you want an image file as well as a user interface window, use\n",
              "`.pyplot.savefig` before `.pyplot.show`. At the end of (a blocking)\n",
              "``show()`` the figure is closed and thus unregistered from pyplot. Calling\n",
              "`.pyplot.savefig` afterwards would save a new and thus empty figure. This\n",
              "limitation of command order does not apply if the show is non-blocking or\n",
              "if you keep a reference to the figure and use `.Figure.savefig`.\n",
              "\n",
              "**Auto-show in jupyter notebooks**\n",
              "\n",
              "The jupyter backends (activated via ``%matplotlib inline``,\n",
              "``%matplotlib notebook``, or ``%matplotlib widget``), call ``show()`` at\n",
              "the end of every cell by default. Thus, you usually don&#x27;t have to call it\n",
              "explicitly there.</pre>\n",
              "      <script>\n",
              "      if (google.colab.kernel.accessAllowed && google.colab.files && google.colab.files.view) {\n",
              "        for (const element of document.querySelectorAll('.filepath')) {\n",
              "          element.style.display = 'block'\n",
              "          element.onclick = (event) => {\n",
              "            event.preventDefault();\n",
              "            event.stopPropagation();\n",
              "            google.colab.files.view(element.textContent, 482);\n",
              "          };\n",
              "        }\n",
              "      }\n",
              "      for (const element of document.querySelectorAll('.function-repr-contents')) {\n",
              "        element.onclick = (event) => {\n",
              "          event.preventDefault();\n",
              "          event.stopPropagation();\n",
              "          element.classList.toggle('function-repr-contents-collapsed');\n",
              "        };\n",
              "      }\n",
              "      </script>\n",
              "      </div>"
            ]
          },
          "metadata": {},
          "execution_count": 5
        },
        {
          "output_type": "display_data",
          "data": {
            "text/plain": [
              "<Figure size 640x480 with 1 Axes>"
            ],
            "image/png": "[encoded data removed]"
          },
          "metadata": {}
        }
      ],
      "source": [
        "# Graficar datos\n",
        "plt.scatter(X, F, marker= 'x', color=\"blue\") # se grafican los datos de F con respecto a X\n",
        "plt.grid(color=\"Black\", linestyle= \"--\") # cuadricula\n",
        "plt.annotate('(0,-5)', (0, -5)) # punto 1\n",
        "plt.annotate('(1,1)', (1, 1)) # punto 2\n",
        "plt.annotate('(2,9)', (2, 9)) # punto 3\n",
        "plt.annotate('(3,25)', (3, 25)) # punto 4\n",
        "plt.annotate('(4,55)', (4, 55)) # punto 5\n",
        "plt.annotate('(5,105)', (5, 105)) # punto 6\n",
        "plt.xlabel(\"x\") # rotulo\n",
        "plt.ylabel(\"f(x)\") # rotulo\n",
        "plt.show # se muestra la grafica"
      ]
    },
    {
      "cell_type": "code",
      "execution_count": null,
      "metadata": {
        "id": "4zha9lBz49iL"
      },
      "outputs": [],
      "source": [
        "# Definimos el polinomio\n",
        "def f(x):\n",
        "    return -5+7*x-2*x**2+x**3"
      ]
    },
    {
      "cell_type": "code",
      "execution_count": null,
      "metadata": {
        "colab": {
          "base_uri": "https://localhost:8080/",
          "height": 641
        },
        "id": "PDo1Qex77Jpr",
        "outputId": "2039e74e-a10a-494d-c74c-e71a213691cf"
      },
      "outputs": [
        {
          "output_type": "execute_result",
          "data": {
            "text/plain": [
              "<function matplotlib.pyplot.show(close=None, block=None)>"
            ],
            "text/html": [
              "<div style=\"max-width:800px; border: 1px solid var(--colab-border-color);\"><style>\n",
              "      pre.function-repr-contents {\n",
              "        overflow-x: auto;\n",
              "        padding: 8px 12px;\n",
              "        max-height: 500px;\n",
              "      }\n",
              "\n",
              "      pre.function-repr-contents.function-repr-contents-collapsed {\n",
              "        cursor: pointer;\n",
              "        max-height: 100px;\n",
              "      }\n",
              "    </style>\n",
              "    <pre style=\"white-space: initial; background:\n",
              "         var(--colab-secondary-surface-color); padding: 8px 12px;\n",
              "         border-bottom: 1px solid var(--colab-border-color);\"><b>matplotlib.pyplot.show</b><br/>def show(*args, **kwargs)</pre><pre class=\"function-repr-contents function-repr-contents-collapsed\" style=\"\"><a class=\"filepath\" style=\"display:none\" href=\"#\">/usr/local/lib/python3.10/dist-packages/matplotlib/pyplot.py</a>Display all open figures.\n",
              "\n",
              "Parameters\n",
              "----------\n",
              "block : bool, optional\n",
              "    Whether to wait for all figures to be closed before returning.\n",
              "\n",
              "    If `True` block and run the GUI main loop until all figure windows\n",
              "    are closed.\n",
              "\n",
              "    If `False` ensure that all figure windows are displayed and return\n",
              "    immediately.  In this case, you are responsible for ensuring\n",
              "    that the event loop is running to have responsive figures.\n",
              "\n",
              "    Defaults to True in non-interactive mode and to False in interactive\n",
              "    mode (see `.pyplot.isinteractive`).\n",
              "\n",
              "See Also\n",
              "--------\n",
              "ion : Enable interactive mode, which shows / updates the figure after\n",
              "      every plotting command, so that calling ``show()`` is not necessary.\n",
              "ioff : Disable interactive mode.\n",
              "savefig : Save the figure to an image file instead of showing it on screen.\n",
              "\n",
              "Notes\n",
              "-----\n",
              "**Saving figures to file and showing a window at the same time**\n",
              "\n",
              "If you want an image file as well as a user interface window, use\n",
              "`.pyplot.savefig` before `.pyplot.show`. At the end of (a blocking)\n",
              "``show()`` the figure is closed and thus unregistered from pyplot. Calling\n",
              "`.pyplot.savefig` afterwards would save a new and thus empty figure. This\n",
              "limitation of command order does not apply if the show is non-blocking or\n",
              "if you keep a reference to the figure and use `.Figure.savefig`.\n",
              "\n",
              "**Auto-show in jupyter notebooks**\n",
              "\n",
              "The jupyter backends (activated via ``%matplotlib inline``,\n",
              "``%matplotlib notebook``, or ``%matplotlib widget``), call ``show()`` at\n",
              "the end of every cell by default. Thus, you usually don&#x27;t have to call it\n",
              "explicitly there.</pre>\n",
              "      <script>\n",
              "      if (google.colab.kernel.accessAllowed && google.colab.files && google.colab.files.view) {\n",
              "        for (const element of document.querySelectorAll('.filepath')) {\n",
              "          element.style.display = 'block'\n",
              "          element.onclick = (event) => {\n",
              "            event.preventDefault();\n",
              "            event.stopPropagation();\n",
              "            google.colab.files.view(element.textContent, 482);\n",
              "          };\n",
              "        }\n",
              "      }\n",
              "      for (const element of document.querySelectorAll('.function-repr-contents')) {\n",
              "        element.onclick = (event) => {\n",
              "          event.preventDefault();\n",
              "          event.stopPropagation();\n",
              "          element.classList.toggle('function-repr-contents-collapsed');\n",
              "        };\n",
              "      }\n",
              "      </script>\n",
              "      </div>"
            ]
          },
          "metadata": {},
          "execution_count": 7
        },
        {
          "output_type": "display_data",
          "data": {
            "text/plain": [
              "<Figure size 640x480 with 1 Axes>"
            ],
            "image/png": "[encoded data removed]"
          },
          "metadata": {}
        }
      ],
      "source": [
        "# Graficacion del polinomio y datos de la tabla\n",
        "x1=np.linspace(0,5,1000) # se crea el rango del grafico\n",
        "\n",
        "plt.plot(x1,f(x1), color=\"orange\") # se grafica el polinomio\n",
        "plt.legend([r\"$F(x)=-5 + 7x - 2x^2 + x^3$\"]) # leyenda\n",
        "plt.title(\"Polinomio Interpolante de Newton\") # titulo\n",
        "plt.scatter(X, F, marker= 's', color=\"red\") # se grafican los datos de F con respecto a X\n",
        "plt.grid(color=\"Black\", linestyle= \"--\") # cuadricula\n",
        "plt.annotate('(0,-5)', (0, -5))\n",
        "plt.annotate('(1,1)', (1, 1))\n",
        "plt.annotate('(2,9)', (2, 9))\n",
        "plt.annotate('(3,25)', (3, 25))\n",
        "plt.annotate('(4,55)', (4, 55))\n",
        "plt.annotate('(5,105)', (5, 105)) # ^ puntos de la tabla\n",
        "plt.xlabel(\"x\") # rótulo\n",
        "plt.ylabel(\"f(x)\") # rótulo\n",
        "plt.show # muestra el grafico"
      ]
    },
    {
      "cell_type": "markdown",
      "source": [
        "## Se escribirá el algoritmo para encontrar el polinomio en base a los coeficientes binomiales"
      ],
      "metadata": {
        "id": "wPbZqwV8uI99"
      }
    },
    {
      "cell_type": "code",
      "source": [
        "## se calcularán las diferencias dentro de un ciclo ##\n",
        "print(f\"X: {X}\")\n",
        "print(f\"F: {F}\")\n",
        "D1 = np.diff(F) # se calculan las primeras diferencias\n",
        "print(f\"Δ1: {D1}\")\n",
        "diferencias = [D1]\n",
        "\n",
        "# Ciclo para calcular las diferencias sucesivas. DifI -> diferencia inicial / DifA -> diferencia actual\n",
        "\n",
        "i = 2  # Contador para los arreglos D2, D3, etc.\n",
        "DifI = D1\n",
        "\n",
        "while True:\n",
        "# Calcula la siguiente diferencia\n",
        "    DifA = np.diff(DifI)  # se calculan las diferencias sucesivas\n",
        "    diferencias.append(DifA)\n",
        "    print(f\"Δ{i}: {DifA}\")\n",
        "\n",
        "# Verifica si todos los elementos del arreglo actual son iguales\n",
        "    if np.all(DifA == DifA[0]):  # se verifica si todos los elementos son iguales\n",
        "        print(f\"Todos los elementos de Δ{i} son iguales, asi los elementos de Δ{i+1} serán 0. Por lo tanto el polinomio es de grado {i}.\")\n",
        "        break\n",
        "\n",
        "# Si no todos los elementos son iguales, actualiza el arreglo para la siguiente iteración\n",
        "    DifI= DifA  # se actualiza el arreglo para la siguiente iteración\n",
        "    i += 1  # se aumenta el contador para el siguiente arreglo\n",
        "\n",
        "print(\"\\nArreglos de diferencias generados:\")\n",
        "for idx, arr in enumerate(diferencias, start=1):\n",
        "    print(f\"Δ{idx}: {arr}\")"
      ],
      "metadata": {
        "colab": {
          "base_uri": "https://localhost:8080/"
        },
        "id": "53Qdrck1mtVV",
        "outputId": "9e3adc8a-4f16-44b3-d6ab-4277bff716a5"
      },
      "execution_count": null,
      "outputs": [
        {
          "output_type": "stream",
          "name": "stdout",
          "text": [
            "X: [0 1 2 3 4 5]\n",
            "F: [ -5   1   9  25  55 105]\n",
            "Δ1: [ 6  8 16 30 50]\n",
            "Δ2: [ 2  8 14 20]\n",
            "Δ3: [6 6 6]\n",
            "Todos los elementos de Δ3 son iguales, asi los elementos de Δ4 serán 0. Por lo tanto el polinomio es de grado 3.\n",
            "\n",
            "Arreglos de diferencias generados:\n",
            "Δ1: [ 6  8 16 30 50]\n",
            "Δ2: [ 2  8 14 20]\n",
            "Δ3: [6 6 6]\n"
          ]
        }
      ]
    },
    {
      "cell_type": "markdown",
      "source": [
        "Encontráremos el polinomio de grado 3 que pasa por todos los puntos formados por los arreglos establecidos.\n",
        "\n",
        "Tenemos que $Y_{(k)}= Y_0 + \\binom{k}{1} \\cdot \\Delta Y_0 + \\binom{k}{2} \\cdot \\Delta^2 Y_0 + \\binom{k}{3} \\cdot \\Delta^3 Y_0$\n",
        "\n",
        "En donde $k= \\frac{X_k - X_0}{h}$, en donde tomaremos $X_k= x$, $X_0=1$ y $h=X_1-X_0$"
      ],
      "metadata": {
        "id": "oEQPZDixYe0R"
      }
    },
    {
      "cell_type": "code",
      "source": [
        "## se calcularán los coeficientes ##\n",
        "  # se tomarán los segundos elementos de cada arreglo, para formar la diagonal que comprende X0, Y0, ΔY0, Δ2Y0, Δ3Y0, que serán (X0=1, Y0=1, ΔY0=8, Δ2Y0=8, Δ3Y0=6)\n",
        "Ys=np.array([F[1],D1[1],diferencias[0][1],diferencias[1][1]])\n",
        "print(f\"Ys: {Ys}\")\n",
        "x=syp.Symbol('x')\n",
        "Xk=x #valor de Xk para obtener los coeficientes del polinomio\n",
        "X0=1 #valor establecido de X0\n",
        "h=abs(X[1]-X[2]) # se calcula la diferencia entre los valores de X\n",
        "k=(Xk-X0)/h # se calcula k\n",
        "\n",
        "  # de forma manual para un valor no entero de k\n",
        "C1=(k)/factorial(1) # coeficiente 1\n",
        "C2=((k)*(k-1))/factorial(2) # coeficiente 2\n",
        "C3=((k)*(k-1)*(k-2))/factorial(3) # coeficiente 3\n",
        "\n",
        "C1=syp.expand(C1) # se relizan los productos necesarios para C1\n",
        "C2=syp.expand(C2) # \"                                      \" C2\n",
        "C3=syp.expand(C3) # \"                                      \" C3\n",
        "\n",
        "# Mostrar resultados\n",
        "#print(f\"C1: {C1}\")\n",
        "#print(f\"C2: {C2}\")\n",
        "#print(f\"C3: {C3}\")\n",
        "\n",
        "  # se sustituiran los coeficientes en Y(k)\n",
        "\n",
        "\n"
      ],
      "metadata": {
        "id": "x5OxyRSyvgqp",
        "colab": {
          "base_uri": "https://localhost:8080/"
        },
        "outputId": "39403298-6573-4c9c-a14b-b6ef8b97f4c4"
      },
      "execution_count": null,
      "outputs": [
        {
          "output_type": "stream",
          "name": "stdout",
          "text": [
            "Ys: [1 8 8 8]\n"
          ]
        }
      ]
    },
    {
      "cell_type": "code",
      "source": [
        "C3"
      ],
      "metadata": {
        "colab": {
          "base_uri": "https://localhost:8080/",
          "height": 54
        },
        "id": "ZUQlK3o5eSou",
        "outputId": "7d3522a5-d205-4938-e8c9-a268dfc9a3ca"
      },
      "execution_count": null,
      "outputs": [
        {
          "output_type": "execute_result",
          "data": {
            "text/plain": [
              "x**3/6 - x**2 + 11*x/6 - 1"
            ],
            "text/latex": "$\\displaystyle \\frac{x^{3}}{6} - x^{2} + \\frac{11 x}{6} - 1$"
          },
          "metadata": {},
          "execution_count": 18
        }
      ]
    },
    {
      "cell_type": "code",
      "source": [
        "type(C3)"
      ],
      "metadata": {
        "id": "RP7FhK3JexuK",
        "colab": {
          "base_uri": "https://localhost:8080/"
        },
        "outputId": "96858848-76cd-458a-d1c0-b1685e36f554"
      },
      "execution_count": null,
      "outputs": [
        {
          "output_type": "execute_result",
          "data": {
            "text/plain": [
              "sympy.core.mul.Mul"
            ]
          },
          "metadata": {},
          "execution_count": 11
        }
      ]
    },
    {
      "cell_type": "code",
      "source": [],
      "metadata": {
        "id": "FFAMIWlYKsM6"
      },
      "execution_count": null,
      "outputs": []
    }
  ],
  "metadata": {
    "colab": {
      "provenance": [],
      "authorship_tag": "ABX9TyOJ04tORe0/8x0/mpZjPDNq",
      "include_colab_link": true
    },
    "kernelspec": {
      "display_name": "Python 3",
      "name": "python3"
    },
    "language_info": {
      "name": "python"
    }
  },
  "nbformat": 4,
  "nbformat_minor": 0
}