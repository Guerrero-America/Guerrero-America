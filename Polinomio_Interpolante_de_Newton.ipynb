{
  "cells": [
    {
      "cell_type": "markdown",
      "metadata": {
        "id": "view-in-github",
        "colab_type": "text"
      },
      "source": [
        "<a href=\"https://colab.research.google.com/github/Guerrero-America/MetodosNumericos/blob/main/Polinomio_Interpolante_de_Newton.ipynb\" target=\"_parent\"><img src=\"https://colab.research.google.com/assets/colab-badge.svg\" alt=\"Open In Colab\"/></a>"
      ]
    },
    {
      "cell_type": "markdown",
      "metadata": {
        "id": "bQ7Lv9c5qh3G"
      },
      "source": [
        "### ***POLINOMIO INTERPOLANTE DE NEWTON***\n",
        "\n",
        "$Y_k= Y_0 + \\binom{k}{1} \\cdot \\Delta Y_0 + \\binom{k}{2} \\cdot \\Delta^2 Y_0 + \\binom{k}{3} \\cdot \\Delta^3 Y_0 + \\cdots + \\binom{k}{j} \\cdot \\Delta^j Y_0 + \\binom{k}{k} \\cdot \\Delta^k Y_0$"
      ]
    },
    {
      "cell_type": "code",
      "execution_count": 18,
      "metadata": {
        "id": "wcMddFgBy_rs"
      },
      "outputs": [],
      "source": [
        "# se importan las librerías que se usarán\n",
        "import numpy as np\n",
        "import matplotlib.pyplot as plt\n",
        "import sympy as syp\n",
        "import scipy.special as spc\n",
        "from math import *"
      ]
    },
    {
      "cell_type": "code",
      "execution_count": 19,
      "metadata": {
        "id": "VVIHx_l6zLZ-"
      },
      "outputs": [],
      "source": [
        "# Se crean los arreglos con los datos correspondientes a X y a Y=F(X)\n",
        "F=np.array([-5, 1, 9, 25, 55, 105]) # datos de Y=F(X)\n",
        "X=np.array([0, 1, 2, 3, 4, 5]) # datos de X"
      ]
    },
    {
      "cell_type": "code",
      "execution_count": 20,
      "metadata": {
        "id": "4zha9lBz49iL"
      },
      "outputs": [],
      "source": [
        "# Definimos el polinomio\n",
        "def f(x):\n",
        "    return -5+7*x-2*x**2+x**3"
      ]
    },
    {
      "cell_type": "code",
      "source": [
        "# Se agregaran valores para X\n",
        "print([f\"Se tienen: X: {X} y Y: {F}\"])\n",
        "valores=int(input(\"Ingrese la cantidad de valores de X que desea: \"))\n",
        "X=np.arange(valores)\n",
        "F=-5+7*X-2*X**2+X**3\n",
        "print(f\"Ahora se tiene: X: {X} y que F(X)={F}\")"
      ],
      "metadata": {
        "colab": {
          "base_uri": "https://localhost:8080/"
        },
        "id": "XbYXGdmHTQFd",
        "outputId": "8d90a364-1bf7-4875-f6de-5f01015cdabe"
      },
      "execution_count": 25,
      "outputs": [
        {
          "output_type": "stream",
          "name": "stdout",
          "text": [
            "['Se tienen: X: [ 0  1  2  3  4  5  6  7  8  9 10 11 12 13 14 15 16 17 18 19] y Y: [  -5    1    9   25   55  105  181  289  435  625  865 1161 1519 1945\\n 2445 3025 3691 4449 5305 6265]']\n",
            "Ingrese la cantidad de valores de X que desea: 10\n",
            "Ahora se tiene: X: [0 1 2 3 4 5 6 7 8 9] y que F(X)=[ -5   1   9  25  55 105 181 289 435 625]\n"
          ]
        }
      ]
    },
    {
      "cell_type": "code",
      "execution_count": 26,
      "metadata": {
        "colab": {
          "base_uri": "https://localhost:8080/",
          "height": 618
        },
        "id": "Jvkuko340eq_",
        "outputId": "fca846b2-b966-4a0a-d1f7-c9ff4e1198b5",
        "collapsed": true
      },
      "outputs": [
        {
          "output_type": "execute_result",
          "data": {
            "text/plain": [
              "<function matplotlib.pyplot.show(close=None, block=None)>"
            ],
            "text/html": [
              "<div style=\"max-width:800px; border: 1px solid var(--colab-border-color);\"><style>\n",
              "      pre.function-repr-contents {\n",
              "        overflow-x: auto;\n",
              "        padding: 8px 12px;\n",
              "        max-height: 500px;\n",
              "      }\n",
              "\n",
              "      pre.function-repr-contents.function-repr-contents-collapsed {\n",
              "        cursor: pointer;\n",
              "        max-height: 100px;\n",
              "      }\n",
              "    </style>\n",
              "    <pre style=\"white-space: initial; background:\n",
              "         var(--colab-secondary-surface-color); padding: 8px 12px;\n",
              "         border-bottom: 1px solid var(--colab-border-color);\"><b>matplotlib.pyplot.show</b><br/>def show(*args, **kwargs)</pre><pre class=\"function-repr-contents function-repr-contents-collapsed\" style=\"\"><a class=\"filepath\" style=\"display:none\" href=\"#\">/usr/local/lib/python3.10/dist-packages/matplotlib/pyplot.py</a>Display all open figures.\n",
              "\n",
              "Parameters\n",
              "----------\n",
              "block : bool, optional\n",
              "    Whether to wait for all figures to be closed before returning.\n",
              "\n",
              "    If `True` block and run the GUI main loop until all figure windows\n",
              "    are closed.\n",
              "\n",
              "    If `False` ensure that all figure windows are displayed and return\n",
              "    immediately.  In this case, you are responsible for ensuring\n",
              "    that the event loop is running to have responsive figures.\n",
              "\n",
              "    Defaults to True in non-interactive mode and to False in interactive\n",
              "    mode (see `.pyplot.isinteractive`).\n",
              "\n",
              "See Also\n",
              "--------\n",
              "ion : Enable interactive mode, which shows / updates the figure after\n",
              "      every plotting command, so that calling ``show()`` is not necessary.\n",
              "ioff : Disable interactive mode.\n",
              "savefig : Save the figure to an image file instead of showing it on screen.\n",
              "\n",
              "Notes\n",
              "-----\n",
              "**Saving figures to file and showing a window at the same time**\n",
              "\n",
              "If you want an image file as well as a user interface window, use\n",
              "`.pyplot.savefig` before `.pyplot.show`. At the end of (a blocking)\n",
              "``show()`` the figure is closed and thus unregistered from pyplot. Calling\n",
              "`.pyplot.savefig` afterwards would save a new and thus empty figure. This\n",
              "limitation of command order does not apply if the show is non-blocking or\n",
              "if you keep a reference to the figure and use `.Figure.savefig`.\n",
              "\n",
              "**Auto-show in jupyter notebooks**\n",
              "\n",
              "The jupyter backends (activated via ``%matplotlib inline``,\n",
              "``%matplotlib notebook``, or ``%matplotlib widget``), call ``show()`` at\n",
              "the end of every cell by default. Thus, you usually don&#x27;t have to call it\n",
              "explicitly there.</pre>\n",
              "      <script>\n",
              "      if (google.colab.kernel.accessAllowed && google.colab.files && google.colab.files.view) {\n",
              "        for (const element of document.querySelectorAll('.filepath')) {\n",
              "          element.style.display = 'block'\n",
              "          element.onclick = (event) => {\n",
              "            event.preventDefault();\n",
              "            event.stopPropagation();\n",
              "            google.colab.files.view(element.textContent, 482);\n",
              "          };\n",
              "        }\n",
              "      }\n",
              "      for (const element of document.querySelectorAll('.function-repr-contents')) {\n",
              "        element.onclick = (event) => {\n",
              "          event.preventDefault();\n",
              "          event.stopPropagation();\n",
              "          element.classList.toggle('function-repr-contents-collapsed');\n",
              "        };\n",
              "      }\n",
              "      </script>\n",
              "      </div>"
            ]
          },
          "metadata": {},
          "execution_count": 26
        },
        {
          "output_type": "display_data",
          "data": {
            "text/plain": [
              "<Figure size 640x480 with 1 Axes>"
            ],
            "image/png": "[encoded data removed]"
          },
          "metadata": {}
        }
      ],
      "source": [
        "# Graficar datos\n",
        "plt.scatter(X, F, marker= 'x', color=\"blue\") # se grafican los datos de F con respecto a X\n",
        "plt.grid(color=\"Black\", linestyle= \"--\") # cuadricula\n",
        "plt.xlabel(\"x\") # rotulo\n",
        "plt.ylabel(\"f(x)\") # rotulo\n",
        "plt.show # se muestra la grafica"
      ]
    },
    {
      "cell_type": "code",
      "execution_count": 27,
      "metadata": {
        "colab": {
          "base_uri": "https://localhost:8080/",
          "height": 641
        },
        "id": "PDo1Qex77Jpr",
        "outputId": "62503831-acfe-4d13-aa34-4797e06026a1",
        "collapsed": true
      },
      "outputs": [
        {
          "output_type": "execute_result",
          "data": {
            "text/plain": [
              "<function matplotlib.pyplot.show(close=None, block=None)>"
            ],
            "text/html": [
              "<div style=\"max-width:800px; border: 1px solid var(--colab-border-color);\"><style>\n",
              "      pre.function-repr-contents {\n",
              "        overflow-x: auto;\n",
              "        padding: 8px 12px;\n",
              "        max-height: 500px;\n",
              "      }\n",
              "\n",
              "      pre.function-repr-contents.function-repr-contents-collapsed {\n",
              "        cursor: pointer;\n",
              "        max-height: 100px;\n",
              "      }\n",
              "    </style>\n",
              "    <pre style=\"white-space: initial; background:\n",
              "         var(--colab-secondary-surface-color); padding: 8px 12px;\n",
              "         border-bottom: 1px solid var(--colab-border-color);\"><b>matplotlib.pyplot.show</b><br/>def show(*args, **kwargs)</pre><pre class=\"function-repr-contents function-repr-contents-collapsed\" style=\"\"><a class=\"filepath\" style=\"display:none\" href=\"#\">/usr/local/lib/python3.10/dist-packages/matplotlib/pyplot.py</a>Display all open figures.\n",
              "\n",
              "Parameters\n",
              "----------\n",
              "block : bool, optional\n",
              "    Whether to wait for all figures to be closed before returning.\n",
              "\n",
              "    If `True` block and run the GUI main loop until all figure windows\n",
              "    are closed.\n",
              "\n",
              "    If `False` ensure that all figure windows are displayed and return\n",
              "    immediately.  In this case, you are responsible for ensuring\n",
              "    that the event loop is running to have responsive figures.\n",
              "\n",
              "    Defaults to True in non-interactive mode and to False in interactive\n",
              "    mode (see `.pyplot.isinteractive`).\n",
              "\n",
              "See Also\n",
              "--------\n",
              "ion : Enable interactive mode, which shows / updates the figure after\n",
              "      every plotting command, so that calling ``show()`` is not necessary.\n",
              "ioff : Disable interactive mode.\n",
              "savefig : Save the figure to an image file instead of showing it on screen.\n",
              "\n",
              "Notes\n",
              "-----\n",
              "**Saving figures to file and showing a window at the same time**\n",
              "\n",
              "If you want an image file as well as a user interface window, use\n",
              "`.pyplot.savefig` before `.pyplot.show`. At the end of (a blocking)\n",
              "``show()`` the figure is closed and thus unregistered from pyplot. Calling\n",
              "`.pyplot.savefig` afterwards would save a new and thus empty figure. This\n",
              "limitation of command order does not apply if the show is non-blocking or\n",
              "if you keep a reference to the figure and use `.Figure.savefig`.\n",
              "\n",
              "**Auto-show in jupyter notebooks**\n",
              "\n",
              "The jupyter backends (activated via ``%matplotlib inline``,\n",
              "``%matplotlib notebook``, or ``%matplotlib widget``), call ``show()`` at\n",
              "the end of every cell by default. Thus, you usually don&#x27;t have to call it\n",
              "explicitly there.</pre>\n",
              "      <script>\n",
              "      if (google.colab.kernel.accessAllowed && google.colab.files && google.colab.files.view) {\n",
              "        for (const element of document.querySelectorAll('.filepath')) {\n",
              "          element.style.display = 'block'\n",
              "          element.onclick = (event) => {\n",
              "            event.preventDefault();\n",
              "            event.stopPropagation();\n",
              "            google.colab.files.view(element.textContent, 482);\n",
              "          };\n",
              "        }\n",
              "      }\n",
              "      for (const element of document.querySelectorAll('.function-repr-contents')) {\n",
              "        element.onclick = (event) => {\n",
              "          event.preventDefault();\n",
              "          event.stopPropagation();\n",
              "          element.classList.toggle('function-repr-contents-collapsed');\n",
              "        };\n",
              "      }\n",
              "      </script>\n",
              "      </div>"
            ]
          },
          "metadata": {},
          "execution_count": 27
        },
        {
          "output_type": "display_data",
          "data": {
            "text/plain": [
              "<Figure size 640x480 with 1 Axes>"
            ],
            "image/png": "[encoded data removed]"
          },
          "metadata": {}
        }
      ],
      "source": [
        "# Graficacion del polinomio y datos de la tabla\n",
        "x1=np.linspace(0,valores,1000) # se crea el rango del grafico\n",
        "\n",
        "plt.plot(x1,f(x1), color=\"orange\") # se grafica el polinomio\n",
        "plt.legend([r\"$F(x)=-5 + 7x - 2x^2 + x^3$\"]) # leyenda\n",
        "plt.title(\"Polinomio Interpolante de Newton\") # titulo\n",
        "plt.scatter(X, F, marker= 's', color=\"red\") # se grafican los datos de F con respecto a X\n",
        "plt.grid(color=\"Black\", linestyle= \"--\") # cuadricula\n",
        "plt.axhline(0, color=\"black\")\n",
        "plt.axvline(0, color=\"black\")\n",
        "plt.xlabel(\"x\") # rótulo\n",
        "plt.ylabel(\"f(x)\") # rótulo\n",
        "plt.show # muestra el grafico"
      ]
    },
    {
      "cell_type": "markdown",
      "source": [
        "## Se escribirá el algoritmo para encontrar los arreglos conformados por las diferencias (Δ1, Δ2,..., Δk)"
      ],
      "metadata": {
        "id": "wPbZqwV8uI99"
      }
    },
    {
      "cell_type": "code",
      "source": [
        "## se calcularán las diferencias dentro de un ciclo ##\n",
        "print(f\"X: {X}\")\n",
        "print(f\"F: {F}\")\n",
        "D1 = np.diff(F) # se calculan las primeras diferencias\n",
        "print(f\"Δ1: {D1}\")\n",
        "diferencias = [D1]\n",
        "\n",
        "# Ciclo para calcular las diferencias sucesivas. DifI -> diferencia inicial / DifA -> diferencia actual\n",
        "\n",
        "i = 2  # Contador para los arreglos D2, D3, etc.\n",
        "DifI = D1\n",
        "\n",
        "while True:\n",
        "# Calcula la siguiente diferencia\n",
        "    DifA = np.diff(DifI)  # se calculan las diferencias sucesivas\n",
        "    diferencias.append(DifA)\n",
        "    print(f\"Δ{i}: {DifA}\")\n",
        "\n",
        "# Verifica si todos los elementos del arreglo actual son iguales\n",
        "    if np.all(DifA == DifA[0]):  # se verifica si todos los elementos son iguales\n",
        "        print(f\"Todos los elementos de Δ{i} son iguales, asi los elementos de Δ{i+1} serán 0. Por lo tanto el polinomio es de grado {i}.\")\n",
        "        break\n",
        "\n",
        "# Si no todos los elementos son iguales, actualiza el arreglo para la siguiente iteración\n",
        "    DifI= DifA  # se actualiza el arreglo para la siguiente iteración\n",
        "    i += 1  # se aumenta el contador para el siguiente arreglo\n",
        "\n",
        "print(\"\\nArreglos de diferencias generados:\")\n",
        "for idx, arr in enumerate(diferencias, start=1):\n",
        "    print(f\"Δ{idx}: {arr}\")"
      ],
      "metadata": {
        "colab": {
          "base_uri": "https://localhost:8080/"
        },
        "id": "53Qdrck1mtVV",
        "outputId": "85233f66-9cde-49fa-bddd-c91b7f5633ea"
      },
      "execution_count": 28,
      "outputs": [
        {
          "output_type": "stream",
          "name": "stdout",
          "text": [
            "X: [0 1 2 3 4 5 6 7 8 9]\n",
            "F: [ -5   1   9  25  55 105 181 289 435 625]\n",
            "Δ1: [  6   8  16  30  50  76 108 146 190]\n",
            "Δ2: [ 2  8 14 20 26 32 38 44]\n",
            "Δ3: [6 6 6 6 6 6 6]\n",
            "Todos los elementos de Δ3 son iguales, asi los elementos de Δ4 serán 0. Por lo tanto el polinomio es de grado 3.\n",
            "\n",
            "Arreglos de diferencias generados:\n",
            "Δ1: [  6   8  16  30  50  76 108 146 190]\n",
            "Δ2: [ 2  8 14 20 26 32 38 44]\n",
            "Δ3: [6 6 6 6 6 6 6]\n"
          ]
        }
      ]
    },
    {
      "cell_type": "code",
      "source": [],
      "metadata": {
        "id": "YTMKt45AGzS7"
      },
      "execution_count": null,
      "outputs": []
    }
  ],
  "metadata": {
    "colab": {
      "provenance": [],
      "authorship_tag": "ABX9TyM8zrzwKTOU1QKTi6Bed63k",
      "include_colab_link": true
    },
    "kernelspec": {
      "display_name": "Python 3",
      "name": "python3"
    },
    "language_info": {
      "name": "python"
    }
  },
  "nbformat": 4,
  "nbformat_minor": 0
}