{
  "nbformat": 4,
  "nbformat_minor": 0,
  "metadata": {
    "colab": {
      "provenance": [],
      "authorship_tag": "ABX9TyPA3kam9ubP10sKtJKJ6xNy",
      "include_colab_link": true
    },
    "kernelspec": {
      "name": "python3",
      "display_name": "Python 3"
    },
    "language_info": {
      "name": "python"
    }
  },
  "cells": [
    {
      "cell_type": "markdown",
      "metadata": {
        "id": "view-in-github",
        "colab_type": "text"
      },
      "source": [
        "<a href=\"https://colab.research.google.com/github/Guerrero-America/MetodosNumericos/blob/main/Pivoteo_Parcial_Escalado.ipynb\" target=\"_parent\"><img src=\"https://colab.research.google.com/assets/colab-badge.svg\" alt=\"Open In Colab\"/></a>"
      ]
    },
    {
      "cell_type": "code",
      "execution_count": 1,
      "metadata": {
        "id": "Hetm1ulZMrSI"
      },
      "outputs": [],
      "source": [
        "import numpy as np"
      ]
    },
    {
      "cell_type": "code",
      "source": [
        "def pivoteo_parcial_escalado (A,b):\n",
        "  # Se resolverá el sistema de ecuaciones Ax = b, con eliminación gaussiana por pivoteo parcial\n",
        "  # A == matriz de coeficientes de tamaño nxn; b == términos independientes\n",
        "\n",
        "  # Inicializar variables\n",
        "  n = len(A) # numero de ecuaciones e incógnitas\n",
        "  A = np.array(A, dtype=float)  # Asegurar que los cálculos sean con flotantes\n",
        "  b = np.array(b, dtype=float)\n",
        "  NROW = np.arange(n)  # Vector indicador de fila\n",
        "\n",
        "  # Calcular los factores de escala s[i]\n",
        "  s = np.max(np.abs(A), axis=1)\n",
        "  if np.any(s == 0):\n",
        "      return \"No existe solución única\" # verifica fila(s) nulas\n",
        "\n",
        "  # Proceso de eliminación\n",
        "  for i in range(n):\n",
        "\n",
        "      # Determinar el pivote escalado\n",
        "      p = i + np.argmax(np.abs(A[NROW[i:], i]) / s[NROW[i:]])\n",
        "      if A[NROW[p], i] == 0:\n",
        "          return \"No existe solución única\"\n",
        "\n",
        "      # Intercambiar filas si es necesario\n",
        "      if NROW[i] != NROW[p]:\n",
        "          NROW[i], NROW[p] = NROW[p], NROW[i]\n",
        "\n",
        "      # Eliminar elementos por debajo del pivote\n",
        "      for j in range(i + 1, n):\n",
        "          m = A[NROW[j], i] / A[NROW[i], i]\n",
        "          A[NROW[j], i:] -= m * A[NROW[i], i:]\n",
        "          b[NROW[j]] -= m * b[NROW[i]]\n",
        "\n",
        "  # Verificar si el sistema tiene solución única\n",
        "  if np.any(np.diag(A[NROW]) == 0):\n",
        "      return \"No existe solución única\"\n",
        "\n",
        "  # Sustitución hacia atrás\n",
        "  x = np.zeros(n)\n",
        "  for i in range(n - 1, -1, -1):\n",
        "      x[i] = (b[NROW[i]] - np.dot(A[NROW[i], i + 1:], x[i + 1:])) / A[NROW[i], i]\n",
        "\n",
        "  return x"
      ],
      "metadata": {
        "id": "0onhOMgWMzU_"
      },
      "execution_count": 7,
      "outputs": []
    },
    {
      "cell_type": "code",
      "source": [
        "# Resolución del ejemplo 2, pág 284\n",
        "if __name__ == \"__main__\":\n",
        "    # Matriz de coeficientes y vector independiente\n",
        "    A = [\n",
        "        [2.11, -4.21, 0.921],\n",
        "        [4.01, 10.2, -1.12],\n",
        "        [1.09, 0.987, 0.832]\n",
        "        ]\n",
        "    b = [2.01, -3.09, 4.21]\n",
        "\n",
        "    # Resolver el sistema\n",
        "    resultado = pivoteo_parcial_escalado(A, b)\n",
        "    print(\"Resultado:\", resultado)\n"
      ],
      "metadata": {
        "colab": {
          "base_uri": "https://localhost:8080/"
        },
        "id": "6zkLb4S9OTc4",
        "outputId": "4cef5e08-5039-4c6d-a477-ff2890e4d078"
      },
      "execution_count": 8,
      "outputs": [
        {
          "output_type": "stream",
          "name": "stdout",
          "text": [
            "Resultado: [-0.42800441  0.42690323  5.11438861]\n"
          ]
        }
      ]
    },
    {
      "cell_type": "code",
      "source": [],
      "metadata": {
        "id": "fNTDtwWbOzat"
      },
      "execution_count": null,
      "outputs": []
    }
  ]
}