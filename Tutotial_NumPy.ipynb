{
  "nbformat": 4,
  "nbformat_minor": 0,
  "metadata": {
    "colab": {
      "provenance": [],
      "authorship_tag": "ABX9TyMPRWU3v3nzzjYx8kYgSGeT",
      "include_colab_link": true
    },
    "kernelspec": {
      "name": "python3",
      "display_name": "Python 3"
    },
    "language_info": {
      "name": "python"
    }
  },
  "cells": [
    {
      "cell_type": "markdown",
      "metadata": {
        "id": "view-in-github",
        "colab_type": "text"
      },
      "source": [
        "<a href=\"https://colab.research.google.com/github/Guerrero-America/MetodosNumericos/blob/main/Tutotial_NumPy.ipynb\" target=\"_parent\"><img src=\"https://colab.research.google.com/assets/colab-badge.svg\" alt=\"Open In Colab\"/></a>"
      ]
    },
    {
      "cell_type": "markdown",
      "source": [
        "#***TUTORIAL DE NUMPY***"
      ],
      "metadata": {
        "id": "bQ7Lv9c5qh3G"
      }
    },
    {
      "cell_type": "markdown",
      "source": [
        "Se realizará un tutorial para ejemplificar el uso de funciones de la biblioteca *NumPy* para trabajar con tablas de datos"
      ],
      "metadata": {
        "id": "PoDMPSrtq5I1"
      }
    },
    {
      "cell_type": "markdown",
      "source": [
        "\n",
        "\n",
        "1.   *Almacenar los datos*; podrían almacenarse los datos de $x$ y $Y=F(x)$\n",
        "\n"
      ],
      "metadata": {
        "id": "0yFvj5EfyEgm"
      }
    },
    {
      "cell_type": "code",
      "execution_count": 2,
      "metadata": {
        "colab": {
          "base_uri": "https://localhost:8080/"
        },
        "id": "Fn98xzNCpbj8",
        "outputId": "9ce3380e-12a2-4c21-9f44-61ac9dcbb916"
      },
      "outputs": [
        {
          "output_type": "stream",
          "name": "stdout",
          "text": [
            "[1 2 3 4 5]\n",
            "[ 2  4  6  8 10]\n"
          ]
        }
      ],
      "source": [
        "import numpy as np\n",
        "x = np.array([1, 2, 3, 4, 5])  # Valores de x\n",
        "fx = np.array([2, 4, 6, 8, 10])  # Correspondientes valores de f(x), donde f(x) = 2x\n",
        "\n",
        "print(x)\n",
        "print(fx)"
      ]
    },
    {
      "cell_type": "markdown",
      "source": [
        "2. *Interpolación*; para encontrar el valor de $F(x)$ para un $x$ que no esté dentro de los datos iniciales.\n",
        "\n",
        "  Usando la funcion *interp*"
      ],
      "metadata": {
        "id": "txED-S7u23Uv"
      }
    },
    {
      "cell_type": "code",
      "source": [
        "x_new = 2.5\n",
        "fx_new = np.interp(x_new, x, fx)  # Interpolación lineal de f(2.5)\n",
        "\n",
        "print(fx_new)"
      ],
      "metadata": {
        "colab": {
          "base_uri": "https://localhost:8080/"
        },
        "id": "Ut0VQ9XT3jsR",
        "outputId": "2acf3aca-8824-4625-e7ba-b4e1814e57e8"
      },
      "execution_count": 3,
      "outputs": [
        {
          "output_type": "stream",
          "name": "stdout",
          "text": [
            "5.0\n"
          ]
        }
      ]
    },
    {
      "cell_type": "markdown",
      "source": [
        "3. *Calclular las diferencias*; para encontrar la tabla de diferencias entre los datos datos.\n",
        "\n",
        "  Usando la función *diff*"
      ],
      "metadata": {
        "id": "wgjIwZDE51Vu"
      }
    },
    {
      "cell_type": "code",
      "source": [
        "dx = np.diff(x)  # Diferencias entre los valores de x\n",
        "dfx = np.diff(fx) # Diferenci<as entre los valores de f(x)\n",
        "\n",
        "print(dx)\n",
        "print(dfx)"
      ],
      "metadata": {
        "colab": {
          "base_uri": "https://localhost:8080/"
        },
        "id": "01MpaW3a77p0",
        "outputId": "05c746b3-cdb9-477e-df84-55bc0d998c49"
      },
      "execution_count": 7,
      "outputs": [
        {
          "output_type": "stream",
          "name": "stdout",
          "text": [
            "[1 1 1 1]\n",
            "[2 2 2 2]\n"
          ]
        }
      ]
    },
    {
      "cell_type": "markdown",
      "source": [
        "4. *Manejar datos faltantes*; si hace falta un valor en los datos de $x$, se puede manejar como **NaN** y \"pasar de largo\" el dato que falta\n",
        "\n",
        "  Usando ***isnan*** puedes identificarlos, con ***nanmean*** y ***nanstd*** sirven para hacer cálculos de estadística sin tomar en cuenta esos valores"
      ],
      "metadata": {
        "id": "rdFoAMtg_jME"
      }
    },
    {
      "cell_type": "code",
      "source": [
        "fx_with_nan = np.array([2, 4, np.nan, 8, 10])\n",
        "mean_fx = np.nanmean(fx_with_nan)  # Promedio sin contar NaN\n",
        "\n",
        "print(mean_fx)"
      ],
      "metadata": {
        "colab": {
          "base_uri": "https://localhost:8080/"
        },
        "id": "V3HTfeh4AJyI",
        "outputId": "011b2a57-ef33-4355-84d3-0afa80085b3f"
      },
      "execution_count": 10,
      "outputs": [
        {
          "output_type": "stream",
          "name": "stdout",
          "text": [
            "6.0\n"
          ]
        }
      ]
    },
    {
      "cell_type": "markdown",
      "source": [
        "5. *Graficar*; podemos graficar los valores de $x$ y de $f(x)$, para un mejora análisis.\n",
        "\n",
        "  usando la librería *matplotlib*"
      ],
      "metadata": {
        "id": "WsYEDOu99fN_"
      }
    },
    {
      "cell_type": "code",
      "source": [
        "import matplotlib.pyplot as plt\n",
        "plt.plot(x, fx, 'o', label=\"Datos\")\n",
        "plt.xlabel(\"x\")\n",
        "plt.ylabel(\"f(x)\")\n",
        "plt.legend()\n",
        "plt.show()\n"
      ],
      "metadata": {
        "colab": {
          "base_uri": "https://localhost:8080/",
          "height": 449
        },
        "id": "rDBNXjxe8DN5",
        "outputId": "61cbd17c-e4f8-4f0f-aca8-780e2aa7d8ef"
      },
      "execution_count": 8,
      "outputs": [
        {
          "output_type": "display_data",
          "data": {
            "text/plain": [
              "<Figure size 640x480 with 1 Axes>"
            ],
            "image/png": "[encoded data removed]"
          },
          "metadata": {}
        }
      ]
    },
    {
      "cell_type": "code",
      "source": [],
      "metadata": {
        "id": "2Ex2EiaT9cIq"
      },
      "execution_count": null,
      "outputs": []
    }
  ]
}